{
 "cells": [
  {
   "cell_type": "code",
   "execution_count": null,
   "metadata": {},
   "outputs": [],
   "source": [
    "import nltk\n",
    "nltk.download('punkt')\n",
    "nltk.download('vader_lexicon')\n",
    "\n",
    "from nltk.classify import NaiveBayesClassifier\n",
    "from nltk.corpus import subjectivity\n",
    "from nltk.sentiment import SentimentAnalyzer\n",
    "from nltk.sentiment.util import *\n",
    "from nltk.sentiment.vader import SentimentIntensityAnalyzer\n",
    "from nltk import tokenize\n",
    "\n",
    "import pandas as pd\n"
   ]
  },
  {
   "cell_type": "code",
   "execution_count": null,
   "metadata": {},
   "outputs": [],
   "source": [
    "feedback = pd.read_csv('/home/elliot/feedback.csv', header=None, names=['comment'])\n",
    "\n",
    "feedback[:5]"
   ]
  },
  {
   "cell_type": "code",
   "execution_count": null,
   "metadata": {},
   "outputs": [],
   "source": [
    "def process(feedback):\n",
    "    ss = sid.polarity_scores(feedback['comment'])\n",
    "    compound = (ss['compound'])\n",
    "    if(compound >= 0.5):\n",
    "        sentiment = 'positive'\n",
    "    elif(compound <= -0.5):\n",
    "        sentiment = 'negative'\n",
    "    else:\n",
    "        sentiment = 'neutral'\n",
    "    return pd.Series([ss['compound'], ss['neg'], ss['neu'], ss['pos'], sentiment])\n",
    "\n",
    "sid = SentimentIntensityAnalyzer()\n",
    "\n",
    "feedback[['compound', 'negative', 'neutral', 'positive', 'sentiment']] = feedback.apply(process, axis=1)\n",
    "feedback[:5]\n"
   ]
  },
  {
   "cell_type": "code",
   "execution_count": null,
   "metadata": {},
   "outputs": [],
   "source": [
    "import matplotlib.pyplot as plt\n",
    "from collections import Counter\n",
    "\n",
    "sentiment_counts = pd.DataFrame.from_dict(Counter(feedback['sentiment']), orient='index')\n",
    "\n",
    "sentiment_counts.plot(kind='bar')\n",
    "plt.show()"
   ]
  }
 ],
 "metadata": {
  "kernelspec": {
   "display_name": "Python 3",
   "language": "python",
   "name": "python3"
  },
  "language_info": {
   "codemirror_mode": {
    "name": "ipython",
    "version": 3
   },
   "file_extension": ".py",
   "mimetype": "text/x-python",
   "name": "python",
   "nbconvert_exporter": "python",
   "pygments_lexer": "ipython3",
   "version": "3.5.3"
  }
 },
 "nbformat": 4,
 "nbformat_minor": 2
}
